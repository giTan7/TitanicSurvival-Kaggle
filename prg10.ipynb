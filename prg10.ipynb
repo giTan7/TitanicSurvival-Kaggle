{
 "cells": [
  {
   "cell_type": "code",
   "execution_count": 1,
   "metadata": {},
   "outputs": [],
   "source": [
    "import pandas as pd\n",
    "import numpy as np\n",
    "import matplotlib.pyplot as plt\n",
    "import seaborn as sns\n",
    "import math\n",
    "%matplotlib inline \n",
    "#it will specify you that o/p will be shown in the same window rather than in a window."
   ]
  },
  {
   "cell_type": "code",
   "execution_count": 2,
   "metadata": {},
   "outputs": [
    {
     "name": "stdout",
     "output_type": "stream",
     "text": [
      "      pclass  survived                                             name  \\\n",
      "0        1.0       1.0                    Allen, Miss. Elisabeth Walton   \n",
      "1        1.0       1.0                   Allison, Master. Hudson Trevor   \n",
      "2        1.0       0.0                     Allison, Miss. Helen Loraine   \n",
      "3        1.0       0.0             Allison, Mr. Hudson Joshua Creighton   \n",
      "4        1.0       0.0  Allison, Mrs. Hudson J C (Bessie Waldo Daniels)   \n",
      "...      ...       ...                                              ...   \n",
      "1305     3.0       0.0                            Zabour, Miss. Thamine   \n",
      "1306     3.0       0.0                        Zakarian, Mr. Mapriededer   \n",
      "1307     3.0       0.0                              Zakarian, Mr. Ortin   \n",
      "1308     3.0       0.0                               Zimmerman, Mr. Leo   \n",
      "1309     NaN       NaN                                              NaN   \n",
      "\n",
      "         sex      age  sibsp  parch  ticket      fare    cabin embarked boat  \\\n",
      "0     female  29.0000    0.0    0.0   24160  211.3375       B5        S    2   \n",
      "1       male   0.9167    1.0    2.0  113781  151.5500  C22 C26        S   11   \n",
      "2     female   2.0000    1.0    2.0  113781  151.5500  C22 C26        S  NaN   \n",
      "3       male  30.0000    1.0    2.0  113781  151.5500  C22 C26        S  NaN   \n",
      "4     female  25.0000    1.0    2.0  113781  151.5500  C22 C26        S  NaN   \n",
      "...      ...      ...    ...    ...     ...       ...      ...      ...  ...   \n",
      "1305  female      NaN    1.0    0.0    2665   14.4542      NaN        C  NaN   \n",
      "1306    male  26.5000    0.0    0.0    2656    7.2250      NaN        C  NaN   \n",
      "1307    male  27.0000    0.0    0.0    2670    7.2250      NaN        C  NaN   \n",
      "1308    male  29.0000    0.0    0.0  315082    7.8750      NaN        S  NaN   \n",
      "1309     NaN      NaN    NaN    NaN     NaN       NaN      NaN      NaN  NaN   \n",
      "\n",
      "       body                        home.dest  \n",
      "0       NaN                     St Louis, MO  \n",
      "1       NaN  Montreal, PQ / Chesterville, ON  \n",
      "2       NaN  Montreal, PQ / Chesterville, ON  \n",
      "3     135.0  Montreal, PQ / Chesterville, ON  \n",
      "4       NaN  Montreal, PQ / Chesterville, ON  \n",
      "...     ...                              ...  \n",
      "1305    NaN                              NaN  \n",
      "1306  304.0                              NaN  \n",
      "1307    NaN                              NaN  \n",
      "1308    NaN                              NaN  \n",
      "1309    NaN                              NaN  \n",
      "\n",
      "[1310 rows x 14 columns]\n",
      "[ 1.  2.  3. nan]\n",
      "\n",
      "[29.      0.9167  2.     30.     25.     48.     63.     39.     53.\n",
      " 71.     47.     18.     24.     26.     80.         nan 50.     32.\n",
      " 36.     37.     42.     19.     35.     28.     45.     40.     58.\n",
      " 22.     41.     44.     59.     60.     33.     17.     11.     14.\n",
      " 49.     76.     46.     27.     64.     55.     70.     38.     51.\n",
      " 31.      4.     54.     23.     43.     52.     16.     32.5    21.\n",
      " 15.     65.     28.5    45.5    56.     13.     61.     34.      6.\n",
      " 57.     62.     67.      1.     12.     20.      0.8333  8.      0.6667\n",
      "  7.      3.     36.5    18.5     5.     66.      9.      0.75   70.5\n",
      " 22.5     0.3333  0.1667 40.5    10.     23.5    34.5    20.5    30.5\n",
      " 55.5    38.5    14.5    24.5    60.5    74.      0.4167 11.5    26.5   ]\n",
      "\n",
      "[ 0.  1.  2.  3.  4.  5.  8. nan]\n",
      "\n",
      "['2' '11' nan '3' '10' 'D' '4' '9' '6' 'B' '8' 'A' '5' '7' 'C' '14' '5 9'\n",
      " '13' '1' '15' '5 7' '8 10' '12' '16' '13 15 B' 'C D' '15 16' '13 15']\n",
      "\n",
      "[ nan 135.  22. 124. 148. 208. 172. 269.  62. 133. 275. 147. 110. 307.\n",
      "  38.  80.  45. 258. 126. 292. 175. 249. 230. 122. 263. 234. 189. 166.\n",
      " 207. 232.  16. 109.  96.  46. 245. 169. 174.  97.  18. 130.  17. 295.\n",
      " 286. 236. 322. 297. 155. 305.  19.  75.  35. 256. 149. 283. 165. 108.\n",
      " 121.  52. 209. 271.  43.  15. 101. 287.  81. 294. 293. 190.  72. 103.\n",
      "  79. 259. 260. 142. 299. 171.   9. 197.  51. 187.  68.  47.  98. 188.\n",
      "  69. 306. 120. 143. 156. 285.  37.  58.  70. 196. 153.  61.  53. 201.\n",
      " 309. 181. 173.  89.   4. 206. 327. 119.   7.  32.  67. 284. 261. 176.\n",
      "  50.   1. 255. 298. 314.  14. 131. 312. 328. 304.]\n",
      "\n",
      "pclass          1\n",
      "survived        1\n",
      "name            1\n",
      "sex             1\n",
      "age           264\n",
      "sibsp           1\n",
      "parch           1\n",
      "ticket          1\n",
      "fare            2\n",
      "cabin        1015\n",
      "embarked        3\n",
      "boat          824\n",
      "body         1189\n",
      "home.dest     565\n",
      "dtype: int64\n"
     ]
    }
   ],
   "source": [
    "##find out in dataset the \n",
    "titanic=pd.read_csv(\"titanic.csv\")\n",
    "tdf=pd.DataFrame(titanic)\n",
    "print(titanic)\n",
    "print(tdf[\"pclass\"].unique()) #qualitative as number is unique\n",
    "print()\n",
    "print(tdf[\"age\"].unique()) #quantitative as number is not unique\n",
    "print()\n",
    "print(tdf[\"sibsp\"].unique()) #quantitative\n",
    "print()\n",
    "print(tdf[\"boat\"].unique()) #qualitative\n",
    "print()\n",
    "print(tdf[\"body\"].unique())\n",
    "print()\n",
    "print(tdf.isnull().sum())# let say the var(column) having high NaN is least important in finding the co-relation.."
   ]
  },
  {
   "cell_type": "code",
   "execution_count": 3,
   "metadata": {},
   "outputs": [
    {
     "data": {
      "text/plain": [
       "<matplotlib.axes._subplots.AxesSubplot at 0xfc7c5942c8>"
      ]
     },
     "execution_count": 3,
     "metadata": {},
     "output_type": "execute_result"
    },
    {
     "data": {
      "image/png": "[encoded data removed]",
      "text/plain": [
       "<Figure size 432x288 with 1 Axes>"
      ]
     },
     "metadata": {
      "needs_background": "light"
     },
     "output_type": "display_data"
    }
   ],
   "source": [
    "#count the survival through seaborn plot..\n",
    "sns.countplot(x=\"survived\",data=tdf)"
   ]
  },
  {
   "cell_type": "code",
   "execution_count": 4,
   "metadata": {},
   "outputs": [
    {
     "data": {
      "text/plain": [
       "<matplotlib.axes._subplots.AxesSubplot at 0xfc7d6305c8>"
      ]
     },
     "execution_count": 4,
     "metadata": {},
     "output_type": "execute_result"
    },
    {
     "data": {
      "image/png": "[encoded data removed]",
      "text/plain": [
       "<Figure size 432x288 with 1 Axes>"
      ]
     },
     "metadata": {
      "needs_background": "light"
     },
     "output_type": "display_data"
    }
   ],
   "source": [
    "#counting the survival of male and female..\n",
    "sns.countplot(x=\"survived\",hue=\"sex\",data=tdf)"
   ]
  },
  {
   "cell_type": "code",
   "execution_count": 5,
   "metadata": {},
   "outputs": [
    {
     "data": {
      "text/plain": [
       "<matplotlib.axes._subplots.AxesSubplot at 0xfc7d6cbf88>"
      ]
     },
     "execution_count": 5,
     "metadata": {},
     "output_type": "execute_result"
    },
    {
     "data": {
      "image/png": "[encoded data removed]",
      "text/plain": [
       "<Figure size 432x288 with 1 Axes>"
      ]
     },
     "metadata": {
      "needs_background": "light"
     },
     "output_type": "display_data"
    }
   ],
   "source": [
    "sns.countplot(x=\"survived\",hue=\"pclass\",data=tdf)"
   ]
  },
  {
   "cell_type": "code",
   "execution_count": 6,
   "metadata": {},
   "outputs": [],
   "source": [
    "#if x1 and x2 have strong reln with y then consider only one of them because they give you same info of y.."
   ]
  },
  {
   "cell_type": "code",
   "execution_count": 7,
   "metadata": {
    "scrolled": false
   },
   "outputs": [
    {
     "data": {
      "image/png": "[encoded data removed]",
      "text/plain": [
       "<Figure size 432x288 with 1 Axes>"
      ]
     },
     "metadata": {
      "needs_background": "light"
     },
     "output_type": "display_data"
    },
    {
     "data": {
      "text/plain": [
       "<matplotlib.axes._subplots.AxesSubplot at 0xfc7d7e6cc8>"
      ]
     },
     "execution_count": 7,
     "metadata": {},
     "output_type": "execute_result"
    },
    {
     "data": {
      "image/png": "[encoded data removed]",
      "text/plain": [
       "<Figure size 432x288 with 1 Axes>"
      ]
     },
     "metadata": {
      "needs_background": "light"
     },
     "output_type": "display_data"
    }
   ],
   "source": [
    "#distribution acc to age\n",
    "tdf[\"age\"].hist()\n",
    "plt.show()\n",
    "sns.countplot(x=\"survived\",hue=\"age\",data=tdf)\n"
   ]
  },
  {
   "cell_type": "code",
   "execution_count": 8,
   "metadata": {},
   "outputs": [],
   "source": [
    "# tdff=sorted(np.array(tdf[\"survived\"]))\n",
    "# m=int(tdf[\"age\"].max())\n",
    "# print(m)\n",
    "# bins=[]\n",
    "# k=0\n",
    "# for i in range(0,m//10+1):\n",
    "#     bins.append(k)\n",
    "#     k+=10\n",
    "    \n",
    "# print(bins)\n",
    "# plt.hist(tdff,bins,histtype='bar',rwidth=0.8)\n",
    "# ###mark"
   ]
  },
  {
   "cell_type": "code",
   "execution_count": 9,
   "metadata": {},
   "outputs": [
    {
     "name": "stdout",
     "output_type": "stream",
     "text": [
      "      pclass  survived                                             name  \\\n",
      "0        1.0       1.0                    Allen, Miss. Elisabeth Walton   \n",
      "1        1.0       1.0                   Allison, Master. Hudson Trevor   \n",
      "2        1.0       0.0                     Allison, Miss. Helen Loraine   \n",
      "3        1.0       0.0             Allison, Mr. Hudson Joshua Creighton   \n",
      "4        1.0       0.0  Allison, Mrs. Hudson J C (Bessie Waldo Daniels)   \n",
      "...      ...       ...                                              ...   \n",
      "1305     3.0       0.0                            Zabour, Miss. Thamine   \n",
      "1306     3.0       0.0                        Zakarian, Mr. Mapriededer   \n",
      "1307     3.0       0.0                              Zakarian, Mr. Ortin   \n",
      "1308     3.0       0.0                               Zimmerman, Mr. Leo   \n",
      "1309     NaN       NaN                                              NaN   \n",
      "\n",
      "         sex      age  sibsp  parch  ticket      fare    cabin embarked boat  \\\n",
      "0     female  29.0000    0.0    0.0   24160  211.3375       B5        S    2   \n",
      "1       male   0.9167    1.0    2.0  113781  151.5500  C22 C26        S   11   \n",
      "2     female   2.0000    1.0    2.0  113781  151.5500  C22 C26        S  NaN   \n",
      "3       male  30.0000    1.0    2.0  113781  151.5500  C22 C26        S  NaN   \n",
      "4     female  25.0000    1.0    2.0  113781  151.5500  C22 C26        S  NaN   \n",
      "...      ...      ...    ...    ...     ...       ...      ...      ...  ...   \n",
      "1305  female      NaN    1.0    0.0    2665   14.4542      NaN        C  NaN   \n",
      "1306    male  26.5000    0.0    0.0    2656    7.2250      NaN        C  NaN   \n",
      "1307    male  27.0000    0.0    0.0    2670    7.2250      NaN        C  NaN   \n",
      "1308    male  29.0000    0.0    0.0  315082    7.8750      NaN        S  NaN   \n",
      "1309     NaN      NaN    NaN    NaN     NaN       NaN      NaN      NaN  NaN   \n",
      "\n",
      "                            home.dest  \n",
      "0                        St Louis, MO  \n",
      "1     Montreal, PQ / Chesterville, ON  \n",
      "2     Montreal, PQ / Chesterville, ON  \n",
      "3     Montreal, PQ / Chesterville, ON  \n",
      "4     Montreal, PQ / Chesterville, ON  \n",
      "...                               ...  \n",
      "1305                              NaN  \n",
      "1306                              NaN  \n",
      "1307                              NaN  \n",
      "1308                              NaN  \n",
      "1309                              NaN  \n",
      "\n",
      "[1310 rows x 13 columns]\n"
     ]
    }
   ],
   "source": [
    "del tdf[\"body\"]\n",
    "print(tdf)"
   ]
  },
  {
   "cell_type": "code",
   "execution_count": 10,
   "metadata": {},
   "outputs": [],
   "source": [
    "tdf.drop([\"boat\",\"home.dest\"], axis=1, inplace=True)"
   ]
  },
  {
   "cell_type": "code",
   "execution_count": 11,
   "metadata": {},
   "outputs": [
    {
     "name": "stdout",
     "output_type": "stream",
     "text": [
      "      pclass  survived                                             name  \\\n",
      "0        1.0       1.0                    Allen, Miss. Elisabeth Walton   \n",
      "1        1.0       1.0                   Allison, Master. Hudson Trevor   \n",
      "2        1.0       0.0                     Allison, Miss. Helen Loraine   \n",
      "3        1.0       0.0             Allison, Mr. Hudson Joshua Creighton   \n",
      "4        1.0       0.0  Allison, Mrs. Hudson J C (Bessie Waldo Daniels)   \n",
      "...      ...       ...                                              ...   \n",
      "1305     3.0       0.0                            Zabour, Miss. Thamine   \n",
      "1306     3.0       0.0                        Zakarian, Mr. Mapriededer   \n",
      "1307     3.0       0.0                              Zakarian, Mr. Ortin   \n",
      "1308     3.0       0.0                               Zimmerman, Mr. Leo   \n",
      "1309     NaN       NaN                                              NaN   \n",
      "\n",
      "         sex      age  sibsp  parch  ticket      fare    cabin embarked  \n",
      "0     female  29.0000    0.0    0.0   24160  211.3375       B5        S  \n",
      "1       male   0.9167    1.0    2.0  113781  151.5500  C22 C26        S  \n",
      "2     female   2.0000    1.0    2.0  113781  151.5500  C22 C26        S  \n",
      "3       male  30.0000    1.0    2.0  113781  151.5500  C22 C26        S  \n",
      "4     female  25.0000    1.0    2.0  113781  151.5500  C22 C26        S  \n",
      "...      ...      ...    ...    ...     ...       ...      ...      ...  \n",
      "1305  female      NaN    1.0    0.0    2665   14.4542      NaN        C  \n",
      "1306    male  26.5000    0.0    0.0    2656    7.2250      NaN        C  \n",
      "1307    male  27.0000    0.0    0.0    2670    7.2250      NaN        C  \n",
      "1308    male  29.0000    0.0    0.0  315082    7.8750      NaN        S  \n",
      "1309     NaN      NaN    NaN    NaN     NaN       NaN      NaN      NaN  \n",
      "\n",
      "[1310 rows x 11 columns]\n"
     ]
    }
   ],
   "source": [
    "print(tdf)"
   ]
  },
  {
   "cell_type": "code",
   "execution_count": 12,
   "metadata": {},
   "outputs": [
    {
     "name": "stdout",
     "output_type": "stream",
     "text": [
      "      pclass  survived     sex      age  sibsp  parch      fare    cabin  \\\n",
      "0        1.0       1.0  female  29.0000    0.0    0.0  211.3375       B5   \n",
      "1        1.0       1.0    male   0.9167    1.0    2.0  151.5500  C22 C26   \n",
      "2        1.0       0.0  female   2.0000    1.0    2.0  151.5500  C22 C26   \n",
      "3        1.0       0.0    male  30.0000    1.0    2.0  151.5500  C22 C26   \n",
      "4        1.0       0.0  female  25.0000    1.0    2.0  151.5500  C22 C26   \n",
      "...      ...       ...     ...      ...    ...    ...       ...      ...   \n",
      "1305     3.0       0.0  female      NaN    1.0    0.0   14.4542      NaN   \n",
      "1306     3.0       0.0    male  26.5000    0.0    0.0    7.2250      NaN   \n",
      "1307     3.0       0.0    male  27.0000    0.0    0.0    7.2250      NaN   \n",
      "1308     3.0       0.0    male  29.0000    0.0    0.0    7.8750      NaN   \n",
      "1309     NaN       NaN     NaN      NaN    NaN    NaN       NaN      NaN   \n",
      "\n",
      "     embarked  \n",
      "0           S  \n",
      "1           S  \n",
      "2           S  \n",
      "3           S  \n",
      "4           S  \n",
      "...       ...  \n",
      "1305        C  \n",
      "1306        C  \n",
      "1307        C  \n",
      "1308        S  \n",
      "1309      NaN  \n",
      "\n",
      "[1310 rows x 9 columns]\n"
     ]
    }
   ],
   "source": [
    "tdf.drop([\"name\",\"ticket\"],axis=1,inplace=True)\n",
    "print(tdf)"
   ]
  },
  {
   "cell_type": "code",
   "execution_count": 13,
   "metadata": {},
   "outputs": [
    {
     "name": "stdout",
     "output_type": "stream",
     "text": [
      "      pclass  survived     sex      age  sibsp  parch      fare    cabin  \\\n",
      "0        1.0       1.0  female  29.0000    0.0    0.0  211.3375       B5   \n",
      "1        1.0       1.0    male   0.9167    1.0    2.0  151.5500  C22 C26   \n",
      "2        1.0       0.0  female   2.0000    1.0    2.0  151.5500  C22 C26   \n",
      "3        1.0       0.0    male  30.0000    1.0    2.0  151.5500  C22 C26   \n",
      "4        1.0       0.0  female  25.0000    1.0    2.0  151.5500  C22 C26   \n",
      "...      ...       ...     ...      ...    ...    ...       ...      ...   \n",
      "1305     3.0       0.0  female      NaN    1.0    0.0   14.4542      NaN   \n",
      "1306     3.0       0.0    male  26.5000    0.0    0.0    7.2250      NaN   \n",
      "1307     3.0       0.0    male  27.0000    0.0    0.0    7.2250      NaN   \n",
      "1308     3.0       0.0    male  29.0000    0.0    0.0    7.8750      NaN   \n",
      "1309     NaN       NaN     NaN      NaN    NaN    NaN       NaN      NaN   \n",
      "\n",
      "     embarked  male  \n",
      "0           S     0  \n",
      "1           S     1  \n",
      "2           S     0  \n",
      "3           S     1  \n",
      "4           S     0  \n",
      "...       ...   ...  \n",
      "1305        C     0  \n",
      "1306        C     1  \n",
      "1307        C     1  \n",
      "1308        S     1  \n",
      "1309      NaN     0  \n",
      "\n",
      "[1310 rows x 10 columns]\n"
     ]
    }
   ],
   "source": [
    "#####cleaning of data....\n",
    "\n",
    "sex=pd.get_dummies(tdf[\"sex\"],drop_first=True)\n",
    "sex.head(5)  #index with 0=dead, 1=survived is printed\n",
    "tdf=pd.concat((tdf,sex),axis=1)\n",
    "print(tdf)"
   ]
  },
  {
   "cell_type": "code",
   "execution_count": 14,
   "metadata": {},
   "outputs": [
    {
     "name": "stdout",
     "output_type": "stream",
     "text": [
      "   pclass  survived      age  sibsp  parch      fare    cabin embarked  male\n",
      "0     1.0       1.0  29.0000    0.0    0.0  211.3375       B5        S     0\n",
      "1     1.0       1.0   0.9167    1.0    2.0  151.5500  C22 C26        S     1\n",
      "2     1.0       0.0   2.0000    1.0    2.0  151.5500  C22 C26        S     0\n",
      "3     1.0       0.0  30.0000    1.0    2.0  151.5500  C22 C26        S     1\n",
      "4     1.0       0.0  25.0000    1.0    2.0  151.5500  C22 C26        S     0\n"
     ]
    }
   ],
   "source": [
    "tdf.drop([\"sex\"],axis=1,inplace=True)\n",
    "print(tdf.head(5))"
   ]
  },
  {
   "cell_type": "code",
   "execution_count": 15,
   "metadata": {},
   "outputs": [
    {
     "name": "stdout",
     "output_type": "stream",
     "text": [
      "      pclass  survived      age  sibsp  parch      fare    cabin embarked  \\\n",
      "0        1.0       1.0  29.0000    0.0    0.0  211.3375       B5        S   \n",
      "1        1.0       1.0   0.9167    1.0    2.0  151.5500  C22 C26        S   \n",
      "2        1.0       0.0   2.0000    1.0    2.0  151.5500  C22 C26        S   \n",
      "3        1.0       0.0  30.0000    1.0    2.0  151.5500  C22 C26        S   \n",
      "4        1.0       0.0  25.0000    1.0    2.0  151.5500  C22 C26        S   \n",
      "...      ...       ...      ...    ...    ...       ...      ...      ...   \n",
      "1305     3.0       0.0      NaN    1.0    0.0   14.4542      NaN        C   \n",
      "1306     3.0       0.0  26.5000    0.0    0.0    7.2250      NaN        C   \n",
      "1307     3.0       0.0  27.0000    0.0    0.0    7.2250      NaN        C   \n",
      "1308     3.0       0.0  29.0000    0.0    0.0    7.8750      NaN        S   \n",
      "1309     NaN       NaN      NaN    NaN    NaN       NaN      NaN      NaN   \n",
      "\n",
      "      male  Q  S  \n",
      "0        0  0  1  \n",
      "1        1  0  1  \n",
      "2        0  0  1  \n",
      "3        1  0  1  \n",
      "4        0  0  1  \n",
      "...    ... .. ..  \n",
      "1305     0  0  0  \n",
      "1306     1  0  0  \n",
      "1307     1  0  0  \n",
      "1308     1  0  1  \n",
      "1309     0  0  0  \n",
      "\n",
      "[1310 rows x 11 columns]\n"
     ]
    }
   ],
   "source": [
    "emb=pd.get_dummies(tdf[\"embarked\"],drop_first=True)\n",
    "tdf.head(5)\n",
    "tdf=pd.concat((tdf,emb),axis=1)\n",
    "print(tdf)"
   ]
  },
  {
   "cell_type": "code",
   "execution_count": 16,
   "metadata": {},
   "outputs": [
    {
     "name": "stdout",
     "output_type": "stream",
     "text": [
      "   pclass  survived      age  sibsp  parch      fare    cabin  male  Q  S\n",
      "0     1.0       1.0  29.0000    0.0    0.0  211.3375       B5     0  0  1\n",
      "1     1.0       1.0   0.9167    1.0    2.0  151.5500  C22 C26     1  0  1\n",
      "2     1.0       0.0   2.0000    1.0    2.0  151.5500  C22 C26     0  0  1\n",
      "3     1.0       0.0  30.0000    1.0    2.0  151.5500  C22 C26     1  0  1\n",
      "4     1.0       0.0  25.0000    1.0    2.0  151.5500  C22 C26     0  0  1\n"
     ]
    }
   ],
   "source": [
    "tdf.drop([\"embarked\"],axis=1,inplace=True)\n",
    "print(tdf.head(5))"
   ]
  },
  {
   "cell_type": "code",
   "execution_count": 17,
   "metadata": {},
   "outputs": [
    {
     "name": "stdout",
     "output_type": "stream",
     "text": [
      "      pclass  survived      age  sibsp  parch      fare    cabin  male  Q  S  \\\n",
      "0        1.0       1.0  29.0000    0.0    0.0  211.3375       B5     0  0  1   \n",
      "1        1.0       1.0   0.9167    1.0    2.0  151.5500  C22 C26     1  0  1   \n",
      "2        1.0       0.0   2.0000    1.0    2.0  151.5500  C22 C26     0  0  1   \n",
      "3        1.0       0.0  30.0000    1.0    2.0  151.5500  C22 C26     1  0  1   \n",
      "4        1.0       0.0  25.0000    1.0    2.0  151.5500  C22 C26     0  0  1   \n",
      "...      ...       ...      ...    ...    ...       ...      ...   ... .. ..   \n",
      "1305     3.0       0.0      NaN    1.0    0.0   14.4542      NaN     0  0  0   \n",
      "1306     3.0       0.0  26.5000    0.0    0.0    7.2250      NaN     1  0  0   \n",
      "1307     3.0       0.0  27.0000    0.0    0.0    7.2250      NaN     1  0  0   \n",
      "1308     3.0       0.0  29.0000    0.0    0.0    7.8750      NaN     1  0  1   \n",
      "1309     NaN       NaN      NaN    NaN    NaN       NaN      NaN     0  0  0   \n",
      "\n",
      "      2.0  3.0  \n",
      "0       0    0  \n",
      "1       0    0  \n",
      "2       0    0  \n",
      "3       0    0  \n",
      "4       0    0  \n",
      "...   ...  ...  \n",
      "1305    0    1  \n",
      "1306    0    1  \n",
      "1307    0    1  \n",
      "1308    0    1  \n",
      "1309    0    0  \n",
      "\n",
      "[1310 rows x 12 columns]\n",
      "   survived      age  sibsp  parch      fare    cabin  male  Q  S  2.0  3.0\n",
      "0       1.0  29.0000    0.0    0.0  211.3375       B5     0  0  1    0    0\n",
      "1       1.0   0.9167    1.0    2.0  151.5500  C22 C26     1  0  1    0    0\n",
      "2       0.0   2.0000    1.0    2.0  151.5500  C22 C26     0  0  1    0    0\n",
      "3       0.0  30.0000    1.0    2.0  151.5500  C22 C26     1  0  1    0    0\n",
      "4       0.0  25.0000    1.0    2.0  151.5500  C22 C26     0  0  1    0    0\n"
     ]
    }
   ],
   "source": [
    "p=pd.get_dummies(tdf[\"pclass\"],drop_first=True)\n",
    "tdf.head(5)\n",
    "tdf=pd.concat((tdf,p),axis=1)\n",
    "print(tdf)\n",
    "\n",
    "tdf.drop([\"pclass\"],axis=1,inplace=True)\n",
    "print(tdf.head(5))"
   ]
  },
  {
   "cell_type": "code",
   "execution_count": 18,
   "metadata": {},
   "outputs": [
    {
     "name": "stdout",
     "output_type": "stream",
     "text": [
      "14.406608234217705\n"
     ]
    },
    {
     "data": {
      "text/plain": [
       "<matplotlib.axes._subplots.AxesSubplot at 0xfc7d5d72c8>"
      ]
     },
     "execution_count": 18,
     "metadata": {},
     "output_type": "execute_result"
    },
    {
     "data": {
      "image/png": "[encoded data removed]",
      "text/plain": [
       "<Figure size 432x288 with 1 Axes>"
      ]
     },
     "metadata": {
      "needs_background": "light"
     },
     "output_type": "display_data"
    }
   ],
   "source": [
    "print(np.std(tdf[\"age\"]))\n",
    "\n",
    "tdf[\"age\"].dropna(inplace=True)\n",
    "num=tdf[\"age\"]\n",
    "sns.distplot(num,hist=True)"
   ]
  },
  {
   "cell_type": "code",
   "execution_count": 19,
   "metadata": {},
   "outputs": [
    {
     "name": "stdout",
     "output_type": "stream",
     "text": [
      "0.781317056300424\n"
     ]
    },
    {
     "data": {
      "text/plain": [
       "<matplotlib.axes._subplots.AxesSubplot at 0xfc7dc47b88>"
      ]
     },
     "execution_count": 19,
     "metadata": {},
     "output_type": "execute_result"
    },
    {
     "data": {
      "image/png": "[encoded data removed]",
      "text/plain": [
       "<Figure size 432x288 with 1 Axes>"
      ]
     },
     "metadata": {
      "needs_background": "light"
     },
     "output_type": "display_data"
    }
   ],
   "source": [
    "age_scale=np.log(tdf[\"age\"])\n",
    "# print(age_scale)\n",
    "print(np.std(age_scale))\n",
    "\n",
    "sns.distplot(age_scale,hist=True)"
   ]
  },
  {
   "cell_type": "code",
   "execution_count": 20,
   "metadata": {},
   "outputs": [
    {
     "name": "stdout",
     "output_type": "stream",
     "text": [
      "      survived  sibsp  parch      fare    cabin  male  Q  S  2.0  3.0\n",
      "0          1.0    0.0    0.0  211.3375       B5     0  0  1    0    0\n",
      "1          1.0    1.0    2.0  151.5500  C22 C26     1  0  1    0    0\n",
      "2          0.0    1.0    2.0  151.5500  C22 C26     0  0  1    0    0\n",
      "3          0.0    1.0    2.0  151.5500  C22 C26     1  0  1    0    0\n",
      "4          0.0    1.0    2.0  151.5500  C22 C26     0  0  1    0    0\n",
      "...        ...    ...    ...       ...      ...   ... .. ..  ...  ...\n",
      "1305       0.0    1.0    0.0   14.4542      NaN     0  0  0    0    1\n",
      "1306       0.0    0.0    0.0    7.2250      NaN     1  0  0    0    1\n",
      "1307       0.0    0.0    0.0    7.2250      NaN     1  0  0    0    1\n",
      "1308       0.0    0.0    0.0    7.8750      NaN     1  0  1    0    1\n",
      "1309       NaN    NaN    NaN       NaN      NaN     0  0  0    0    0\n",
      "\n",
      "[1310 rows x 10 columns]\n"
     ]
    }
   ],
   "source": [
    "tdf.drop([\"age\"],axis=1, inplace=True)\n",
    "print(tdf)"
   ]
  },
  {
   "cell_type": "code",
   "execution_count": 21,
   "metadata": {},
   "outputs": [
    {
     "name": "stdout",
     "output_type": "stream",
     "text": [
      "      survived  sibsp  parch      fare    cabin  male  Q  S  2.0  3.0  \\\n",
      "0          1.0    0.0    0.0  211.3375       B5     0  0  1    0    0   \n",
      "1          1.0    1.0    2.0  151.5500  C22 C26     1  0  1    0    0   \n",
      "2          0.0    1.0    2.0  151.5500  C22 C26     0  0  1    0    0   \n",
      "3          0.0    1.0    2.0  151.5500  C22 C26     1  0  1    0    0   \n",
      "4          0.0    1.0    2.0  151.5500  C22 C26     0  0  1    0    0   \n",
      "...        ...    ...    ...       ...      ...   ... .. ..  ...  ...   \n",
      "1305       0.0    1.0    0.0   14.4542      NaN     0  0  0    0    1   \n",
      "1306       0.0    0.0    0.0    7.2250      NaN     1  0  0    0    1   \n",
      "1307       0.0    0.0    0.0    7.2250      NaN     1  0  0    0    1   \n",
      "1308       0.0    0.0    0.0    7.8750      NaN     1  0  1    0    1   \n",
      "1309       NaN    NaN    NaN       NaN      NaN     0  0  0    0    0   \n",
      "\n",
      "           age  \n",
      "0     3.367296  \n",
      "1    -0.086975  \n",
      "2     0.693147  \n",
      "3     3.401197  \n",
      "4     3.218876  \n",
      "...        ...  \n",
      "1305       NaN  \n",
      "1306  3.277145  \n",
      "1307  3.295837  \n",
      "1308  3.367296  \n",
      "1309       NaN  \n",
      "\n",
      "[1310 rows x 11 columns]\n"
     ]
    }
   ],
   "source": [
    "tdf=pd.concat((tdf,age_scale),axis=1)\n",
    "print(tdf)"
   ]
  },
  {
   "cell_type": "code",
   "execution_count": 22,
   "metadata": {},
   "outputs": [
    {
     "data": {
      "text/html": [
       "<div>\n",
       "<style scoped>\n",
       "    .dataframe tbody tr th:only-of-type {\n",
       "        vertical-align: middle;\n",
       "    }\n",
       "\n",
       "    .dataframe tbody tr th {\n",
       "        vertical-align: top;\n",
       "    }\n",
       "\n",
       "    .dataframe thead th {\n",
       "        text-align: right;\n",
       "    }\n",
       "</style>\n",
       "<table border=\"1\" class=\"dataframe\">\n",
       "  <thead>\n",
       "    <tr style=\"text-align: right;\">\n",
       "      <th></th>\n",
       "      <th>survived</th>\n",
       "      <th>sibsp</th>\n",
       "      <th>parch</th>\n",
       "      <th>fare</th>\n",
       "      <th>cabin</th>\n",
       "      <th>male</th>\n",
       "      <th>Q</th>\n",
       "      <th>S</th>\n",
       "      <th>2.0</th>\n",
       "      <th>3.0</th>\n",
       "      <th>age</th>\n",
       "    </tr>\n",
       "  </thead>\n",
       "  <tbody>\n",
       "    <tr>\n",
       "      <td>0</td>\n",
       "      <td>1.0</td>\n",
       "      <td>0.0</td>\n",
       "      <td>0.0</td>\n",
       "      <td>211.3375</td>\n",
       "      <td>B5</td>\n",
       "      <td>0</td>\n",
       "      <td>0</td>\n",
       "      <td>1</td>\n",
       "      <td>0</td>\n",
       "      <td>0</td>\n",
       "      <td>3.367296</td>\n",
       "    </tr>\n",
       "    <tr>\n",
       "      <td>1</td>\n",
       "      <td>1.0</td>\n",
       "      <td>1.0</td>\n",
       "      <td>2.0</td>\n",
       "      <td>151.5500</td>\n",
       "      <td>C22 C26</td>\n",
       "      <td>1</td>\n",
       "      <td>0</td>\n",
       "      <td>1</td>\n",
       "      <td>0</td>\n",
       "      <td>0</td>\n",
       "      <td>-0.086975</td>\n",
       "    </tr>\n",
       "    <tr>\n",
       "      <td>2</td>\n",
       "      <td>0.0</td>\n",
       "      <td>1.0</td>\n",
       "      <td>2.0</td>\n",
       "      <td>151.5500</td>\n",
       "      <td>C22 C26</td>\n",
       "      <td>0</td>\n",
       "      <td>0</td>\n",
       "      <td>1</td>\n",
       "      <td>0</td>\n",
       "      <td>0</td>\n",
       "      <td>0.693147</td>\n",
       "    </tr>\n",
       "    <tr>\n",
       "      <td>3</td>\n",
       "      <td>0.0</td>\n",
       "      <td>1.0</td>\n",
       "      <td>2.0</td>\n",
       "      <td>151.5500</td>\n",
       "      <td>C22 C26</td>\n",
       "      <td>1</td>\n",
       "      <td>0</td>\n",
       "      <td>1</td>\n",
       "      <td>0</td>\n",
       "      <td>0</td>\n",
       "      <td>3.401197</td>\n",
       "    </tr>\n",
       "    <tr>\n",
       "      <td>4</td>\n",
       "      <td>0.0</td>\n",
       "      <td>1.0</td>\n",
       "      <td>2.0</td>\n",
       "      <td>151.5500</td>\n",
       "      <td>C22 C26</td>\n",
       "      <td>0</td>\n",
       "      <td>0</td>\n",
       "      <td>1</td>\n",
       "      <td>0</td>\n",
       "      <td>0</td>\n",
       "      <td>3.218876</td>\n",
       "    </tr>\n",
       "  </tbody>\n",
       "</table>\n",
       "</div>"
      ],
      "text/plain": [
       "   survived  sibsp  parch      fare    cabin  male  Q  S  2.0  3.0       age\n",
       "0       1.0    0.0    0.0  211.3375       B5     0  0  1    0    0  3.367296\n",
       "1       1.0    1.0    2.0  151.5500  C22 C26     1  0  1    0    0 -0.086975\n",
       "2       0.0    1.0    2.0  151.5500  C22 C26     0  0  1    0    0  0.693147\n",
       "3       0.0    1.0    2.0  151.5500  C22 C26     1  0  1    0    0  3.401197\n",
       "4       0.0    1.0    2.0  151.5500  C22 C26     0  0  1    0    0  3.218876"
      ]
     },
     "execution_count": 22,
     "metadata": {},
     "output_type": "execute_result"
    }
   ],
   "source": [
    "tdf.head()"
   ]
  },
  {
   "cell_type": "code",
   "execution_count": 23,
   "metadata": {},
   "outputs": [
    {
     "data": {
      "text/html": [
       "<div>\n",
       "<style scoped>\n",
       "    .dataframe tbody tr th:only-of-type {\n",
       "        vertical-align: middle;\n",
       "    }\n",
       "\n",
       "    .dataframe tbody tr th {\n",
       "        vertical-align: top;\n",
       "    }\n",
       "\n",
       "    .dataframe thead th {\n",
       "        text-align: right;\n",
       "    }\n",
       "</style>\n",
       "<table border=\"1\" class=\"dataframe\">\n",
       "  <thead>\n",
       "    <tr style=\"text-align: right;\">\n",
       "      <th></th>\n",
       "      <th>survived</th>\n",
       "      <th>sibsp</th>\n",
       "      <th>parch</th>\n",
       "      <th>fare</th>\n",
       "      <th>male</th>\n",
       "      <th>Q</th>\n",
       "      <th>S</th>\n",
       "      <th>2.0</th>\n",
       "      <th>3.0</th>\n",
       "      <th>age</th>\n",
       "    </tr>\n",
       "  </thead>\n",
       "  <tbody>\n",
       "    <tr>\n",
       "      <td>0</td>\n",
       "      <td>1.0</td>\n",
       "      <td>0.0</td>\n",
       "      <td>0.0</td>\n",
       "      <td>211.3375</td>\n",
       "      <td>0</td>\n",
       "      <td>0</td>\n",
       "      <td>1</td>\n",
       "      <td>0</td>\n",
       "      <td>0</td>\n",
       "      <td>3.367296</td>\n",
       "    </tr>\n",
       "    <tr>\n",
       "      <td>1</td>\n",
       "      <td>1.0</td>\n",
       "      <td>1.0</td>\n",
       "      <td>2.0</td>\n",
       "      <td>151.5500</td>\n",
       "      <td>1</td>\n",
       "      <td>0</td>\n",
       "      <td>1</td>\n",
       "      <td>0</td>\n",
       "      <td>0</td>\n",
       "      <td>-0.086975</td>\n",
       "    </tr>\n",
       "    <tr>\n",
       "      <td>2</td>\n",
       "      <td>0.0</td>\n",
       "      <td>1.0</td>\n",
       "      <td>2.0</td>\n",
       "      <td>151.5500</td>\n",
       "      <td>0</td>\n",
       "      <td>0</td>\n",
       "      <td>1</td>\n",
       "      <td>0</td>\n",
       "      <td>0</td>\n",
       "      <td>0.693147</td>\n",
       "    </tr>\n",
       "    <tr>\n",
       "      <td>3</td>\n",
       "      <td>0.0</td>\n",
       "      <td>1.0</td>\n",
       "      <td>2.0</td>\n",
       "      <td>151.5500</td>\n",
       "      <td>1</td>\n",
       "      <td>0</td>\n",
       "      <td>1</td>\n",
       "      <td>0</td>\n",
       "      <td>0</td>\n",
       "      <td>3.401197</td>\n",
       "    </tr>\n",
       "    <tr>\n",
       "      <td>4</td>\n",
       "      <td>0.0</td>\n",
       "      <td>1.0</td>\n",
       "      <td>2.0</td>\n",
       "      <td>151.5500</td>\n",
       "      <td>0</td>\n",
       "      <td>0</td>\n",
       "      <td>1</td>\n",
       "      <td>0</td>\n",
       "      <td>0</td>\n",
       "      <td>3.218876</td>\n",
       "    </tr>\n",
       "  </tbody>\n",
       "</table>\n",
       "</div>"
      ],
      "text/plain": [
       "   survived  sibsp  parch      fare  male  Q  S  2.0  3.0       age\n",
       "0       1.0    0.0    0.0  211.3375     0  0  1    0    0  3.367296\n",
       "1       1.0    1.0    2.0  151.5500     1  0  1    0    0 -0.086975\n",
       "2       0.0    1.0    2.0  151.5500     0  0  1    0    0  0.693147\n",
       "3       0.0    1.0    2.0  151.5500     1  0  1    0    0  3.401197\n",
       "4       0.0    1.0    2.0  151.5500     0  0  1    0    0  3.218876"
      ]
     },
     "execution_count": 23,
     "metadata": {},
     "output_type": "execute_result"
    }
   ],
   "source": [
    "tdf.drop([\"cabin\"],axis=1,inplace=True)\n",
    "tdf.head()"
   ]
  },
  {
   "cell_type": "code",
   "execution_count": 24,
   "metadata": {},
   "outputs": [
    {
     "name": "stdout",
     "output_type": "stream",
     "text": [
      "(1310, 10)\n"
     ]
    }
   ],
   "source": [
    "print(tdf.shape)"
   ]
  },
  {
   "cell_type": "code",
   "execution_count": 25,
   "metadata": {},
   "outputs": [
    {
     "data": {
      "text/html": [
       "<div>\n",
       "<style scoped>\n",
       "    .dataframe tbody tr th:only-of-type {\n",
       "        vertical-align: middle;\n",
       "    }\n",
       "\n",
       "    .dataframe tbody tr th {\n",
       "        vertical-align: top;\n",
       "    }\n",
       "\n",
       "    .dataframe thead th {\n",
       "        text-align: right;\n",
       "    }\n",
       "</style>\n",
       "<table border=\"1\" class=\"dataframe\">\n",
       "  <thead>\n",
       "    <tr style=\"text-align: right;\">\n",
       "      <th></th>\n",
       "      <th>survived</th>\n",
       "      <th>sibsp</th>\n",
       "      <th>parch</th>\n",
       "      <th>fare</th>\n",
       "      <th>male</th>\n",
       "      <th>Q</th>\n",
       "      <th>S</th>\n",
       "      <th>2.0</th>\n",
       "      <th>3.0</th>\n",
       "      <th>age</th>\n",
       "    </tr>\n",
       "  </thead>\n",
       "  <tbody>\n",
       "    <tr>\n",
       "      <td>0</td>\n",
       "      <td>1.0</td>\n",
       "      <td>0.0</td>\n",
       "      <td>0.0</td>\n",
       "      <td>211.3375</td>\n",
       "      <td>0</td>\n",
       "      <td>0</td>\n",
       "      <td>1</td>\n",
       "      <td>0</td>\n",
       "      <td>0</td>\n",
       "      <td>3.367296</td>\n",
       "    </tr>\n",
       "    <tr>\n",
       "      <td>1</td>\n",
       "      <td>1.0</td>\n",
       "      <td>1.0</td>\n",
       "      <td>2.0</td>\n",
       "      <td>151.5500</td>\n",
       "      <td>1</td>\n",
       "      <td>0</td>\n",
       "      <td>1</td>\n",
       "      <td>0</td>\n",
       "      <td>0</td>\n",
       "      <td>-0.086975</td>\n",
       "    </tr>\n",
       "    <tr>\n",
       "      <td>2</td>\n",
       "      <td>0.0</td>\n",
       "      <td>1.0</td>\n",
       "      <td>2.0</td>\n",
       "      <td>151.5500</td>\n",
       "      <td>0</td>\n",
       "      <td>0</td>\n",
       "      <td>1</td>\n",
       "      <td>0</td>\n",
       "      <td>0</td>\n",
       "      <td>0.693147</td>\n",
       "    </tr>\n",
       "    <tr>\n",
       "      <td>3</td>\n",
       "      <td>0.0</td>\n",
       "      <td>1.0</td>\n",
       "      <td>2.0</td>\n",
       "      <td>151.5500</td>\n",
       "      <td>1</td>\n",
       "      <td>0</td>\n",
       "      <td>1</td>\n",
       "      <td>0</td>\n",
       "      <td>0</td>\n",
       "      <td>3.401197</td>\n",
       "    </tr>\n",
       "    <tr>\n",
       "      <td>4</td>\n",
       "      <td>0.0</td>\n",
       "      <td>1.0</td>\n",
       "      <td>2.0</td>\n",
       "      <td>151.5500</td>\n",
       "      <td>0</td>\n",
       "      <td>0</td>\n",
       "      <td>1</td>\n",
       "      <td>0</td>\n",
       "      <td>0</td>\n",
       "      <td>3.218876</td>\n",
       "    </tr>\n",
       "  </tbody>\n",
       "</table>\n",
       "</div>"
      ],
      "text/plain": [
       "   survived  sibsp  parch      fare  male  Q  S  2.0  3.0       age\n",
       "0       1.0    0.0    0.0  211.3375     0  0  1    0    0  3.367296\n",
       "1       1.0    1.0    2.0  151.5500     1  0  1    0    0 -0.086975\n",
       "2       0.0    1.0    2.0  151.5500     0  0  1    0    0  0.693147\n",
       "3       0.0    1.0    2.0  151.5500     1  0  1    0    0  3.401197\n",
       "4       0.0    1.0    2.0  151.5500     0  0  1    0    0  3.218876"
      ]
     },
     "execution_count": 25,
     "metadata": {},
     "output_type": "execute_result"
    }
   ],
   "source": [
    "tdf.dropna(inplace=True)\n",
    "tdf.head()"
   ]
  },
  {
   "cell_type": "code",
   "execution_count": 26,
   "metadata": {},
   "outputs": [
    {
     "name": "stdout",
     "output_type": "stream",
     "text": [
      "(1045, 10)\n"
     ]
    }
   ],
   "source": [
    "print(tdf.shape)"
   ]
  },
  {
   "cell_type": "code",
   "execution_count": 27,
   "metadata": {},
   "outputs": [],
   "source": [
    "#### day13"
   ]
  },
  {
   "cell_type": "code",
   "execution_count": 28,
   "metadata": {},
   "outputs": [],
   "source": [
    "##train the data"
   ]
  },
  {
   "cell_type": "code",
   "execution_count": 29,
   "metadata": {},
   "outputs": [],
   "source": [
    "from sklearn.model_selection import train_test_split\n",
    "x=tdf.drop(\"survived\", axis=1)\n",
    "y=tdf[\"survived\"]"
   ]
  },
  {
   "cell_type": "code",
   "execution_count": 30,
   "metadata": {},
   "outputs": [
    {
     "name": "stderr",
     "output_type": "stream",
     "text": [
      "C:\\Users\\DELL\\Anaconda3\\lib\\site-packages\\sklearn\\linear_model\\logistic.py:432: FutureWarning: Default solver will be changed to 'lbfgs' in 0.22. Specify a solver to silence this warning.\n",
      "  FutureWarning)\n"
     ]
    },
    {
     "data": {
      "text/plain": [
       "LogisticRegression(C=1.0, class_weight=None, dual=False, fit_intercept=True,\n",
       "                   intercept_scaling=1, l1_ratio=None, max_iter=100,\n",
       "                   multi_class='warn', n_jobs=None, penalty='l2',\n",
       "                   random_state=None, solver='warn', tol=0.0001, verbose=0,\n",
       "                   warm_start=False)"
      ]
     },
     "execution_count": 30,
     "metadata": {},
     "output_type": "execute_result"
    }
   ],
   "source": [
    "# from sklearn.cross_validation import train_test_split\n",
    "x_train,x_test,y_train,y_test = train_test_split(x,y,test_size=0.3, random_state=1)\n",
    "\n",
    "from sklearn.linear_model import LogisticRegression\n",
    "logmodel=LogisticRegression()\n",
    "logmodel.fit(x_train,y_train) #train the model"
   ]
  },
  {
   "cell_type": "code",
   "execution_count": 31,
   "metadata": {},
   "outputs": [],
   "source": [
    "predictions=logmodel.predict(x_test)"
   ]
  },
  {
   "cell_type": "code",
   "execution_count": 32,
   "metadata": {},
   "outputs": [
    {
     "data": {
      "text/plain": [
       "0.8312101910828026"
      ]
     },
     "execution_count": 32,
     "metadata": {},
     "output_type": "execute_result"
    }
   ],
   "source": [
    "#evaluation\n",
    "from sklearn.metrics import accuracy_score\n",
    "accuracy_score(y_test,predictions)"
   ]
  },
  {
   "cell_type": "code",
   "execution_count": 33,
   "metadata": {},
   "outputs": [
    {
     "data": {
      "text/plain": [
       "(150, 24, 29, 111)"
      ]
     },
     "execution_count": 33,
     "metadata": {},
     "output_type": "execute_result"
    }
   ],
   "source": [
    "from sklearn.metrics import confusion_matrix\n",
    "res=confusion_matrix(y_test,predictions)\n",
    "res\n",
    "tn,tp,fn,fp=confusion_matrix(y_test,predictions).ravel()\n",
    "tn,tp,fn,fp"
   ]
  },
  {
   "cell_type": "code",
   "execution_count": null,
   "metadata": {},
   "outputs": [],
   "source": []
  }
 ],
 "metadata": {
  "kernelspec": {
   "display_name": "Python 3",
   "language": "python",
   "name": "python3"
  },
  "language_info": {
   "codemirror_mode": {
    "name": "ipython",
    "version": 3
   },
   "file_extension": ".py",
   "mimetype": "text/x-python",
   "name": "python",
   "nbconvert_exporter": "python",
   "pygments_lexer": "ipython3",
   "version": "3.7.4"
  }
 },
 "nbformat": 4,
 "nbformat_minor": 2
}
